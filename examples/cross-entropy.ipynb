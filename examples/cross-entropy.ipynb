{
 "cells": [
  {
   "cell_type": "markdown",
   "metadata": {},
   "source": [
    "# Cross Entropy Method\n",
    "\n",
    "## CartPole Example"
   ]
  },
  {
   "cell_type": "code",
   "execution_count": 1,
   "metadata": {},
   "outputs": [],
   "source": [
    "import torch\n",
    "import torch.nn as nn\n",
    "\n",
    "class SimpleNet(nn.Module):\n",
    "    def __init__(self, obs_size: int, hidden_size: int, n_actions: int) -> None:\n",
    "        super().__init__()\n",
    "        \n",
    "        self.net = nn.Sequential(\n",
    "            nn.Linear(obs_size, hidden_size),\n",
    "            nn.ReLU(),\n",
    "            nn.Linear(hidden_size, n_actions),\n",
    "        )\n",
    "    \n",
    "    def forward(self, x: torch.Tensor) -> torch.Tensor:\n",
    "        return self.net(x)\n",
    "    "
   ]
  },
  {
   "cell_type": "code",
   "execution_count": 2,
   "metadata": {},
   "outputs": [],
   "source": [
    "import gymnasium as gym\n",
    "from gymnasium.wrappers import NumpyToTorch\n",
    "import torch.optim as optim\n",
    "\n",
    "from examples.cross_entropy import save_net_spec\n",
    "from velora.utils import load_config\n",
    "\n",
    "config = load_config(\"config/cp_ce.yaml\")\n",
    "env: gym.Env = NumpyToTorch(gym.make(config.env.name))\n",
    "\n",
    "obs_size = env.observation_space.shape[0]\n",
    "n_actions = env.action_space.n\n",
    "\n",
    "net = SimpleNet(obs_size, config.model.hidden_size, n_actions)\n",
    "loss = nn.CrossEntropyLoss()\n",
    "optimizer = optim.Adam(params=net.parameters(), **config.optimizer)\n",
    "\n",
    "save_net_spec(net, \"saved/\")"
   ]
  },
  {
   "cell_type": "code",
   "execution_count": 6,
   "metadata": {},
   "outputs": [
    {
     "name": "stderr",
     "output_type": "stream",
     "text": [
      "Failed to detect the name of this notebook, you can set it manually with the WANDB_NOTEBOOK_NAME environment variable to enable code saving.\n",
      "wandb: Using wandb-core as the SDK backend. Please refer to https://wandb.me/wandb-core for more information.\n",
      "wandb: Currently logged in as: achronus (achronus-uk). Use `wandb login --relogin` to force relogin\n"
     ]
    },
    {
     "data": {
      "text/plain": [
       "True"
      ]
     },
     "execution_count": 6,
     "metadata": {},
     "output_type": "execute_result"
    }
   ],
   "source": [
    "import wandb\n",
    "\n",
    "wandb.login()"
   ]
  },
  {
   "cell_type": "code",
   "execution_count": 7,
   "metadata": {},
   "outputs": [
    {
     "data": {
      "text/html": [
       "Tracking run with wandb version 0.18.5"
      ],
      "text/plain": [
       "<IPython.core.display.HTML object>"
      ]
     },
     "metadata": {},
     "output_type": "display_data"
    },
    {
     "data": {
      "text/html": [
       "Run data is saved locally in <code>c:\\Projects\\portfolio\\velora\\examples\\wandb\\run-20241112_091530-8z7ncm0g</code>"
      ],
      "text/plain": [
       "<IPython.core.display.HTML object>"
      ]
     },
     "metadata": {},
     "output_type": "display_data"
    },
    {
     "data": {
      "text/html": [
       "Syncing run <strong><a href='https://wandb.ai/achronus-uk/CrossEntropyTest/runs/8z7ncm0g' target=\"_blank\">CP-run-4</a></strong> to <a href='https://wandb.ai/achronus-uk/CrossEntropyTest' target=\"_blank\">Weights & Biases</a> (<a href='https://wandb.me/run' target=\"_blank\">docs</a>)<br/>"
      ],
      "text/plain": [
       "<IPython.core.display.HTML object>"
      ]
     },
     "metadata": {},
     "output_type": "display_data"
    },
    {
     "data": {
      "text/html": [
       " View project at <a href='https://wandb.ai/achronus-uk/CrossEntropyTest' target=\"_blank\">https://wandb.ai/achronus-uk/CrossEntropyTest</a>"
      ],
      "text/plain": [
       "<IPython.core.display.HTML object>"
      ]
     },
     "metadata": {},
     "output_type": "display_data"
    },
    {
     "data": {
      "text/html": [
       " View run at <a href='https://wandb.ai/achronus-uk/CrossEntropyTest/runs/8z7ncm0g' target=\"_blank\">https://wandb.ai/achronus-uk/CrossEntropyTest/runs/8z7ncm0g</a>"
      ],
      "text/plain": [
       "<IPython.core.display.HTML object>"
      ]
     },
     "metadata": {},
     "output_type": "display_data"
    },
    {
     "name": "stdout",
     "output_type": "stream",
     "text": [
      "0: loss=0.691, reward_mean=38.0, rw_bound=43.0\n",
      "1: loss=0.673, reward_mean=27.4, rw_bound=25.5\n",
      "2: loss=0.674, reward_mean=28.2, rw_bound=32.5\n",
      "3: loss=0.658, reward_mean=44.3, rw_bound=42.5\n",
      "4: loss=0.643, reward_mean=37.0, rw_bound=42.5\n",
      "5: loss=0.633, reward_mean=40.9, rw_bound=55.5\n",
      "6: loss=0.649, reward_mean=37.2, rw_bound=44.5\n",
      "7: loss=0.613, reward_mean=37.6, rw_bound=40.0\n",
      "8: loss=0.627, reward_mean=38.1, rw_bound=45.5\n",
      "9: loss=0.598, reward_mean=54.6, rw_bound=61.0\n",
      "10: loss=0.619, reward_mean=51.8, rw_bound=57.0\n",
      "11: loss=0.623, reward_mean=55.2, rw_bound=61.5\n",
      "12: loss=0.598, reward_mean=54.2, rw_bound=65.5\n",
      "13: loss=0.582, reward_mean=69.4, rw_bound=77.5\n",
      "14: loss=0.596, reward_mean=69.9, rw_bound=73.0\n",
      "15: loss=0.596, reward_mean=62.8, rw_bound=72.5\n",
      "16: loss=0.589, reward_mean=67.0, rw_bound=77.5\n",
      "17: loss=0.568, reward_mean=72.4, rw_bound=85.5\n",
      "18: loss=0.579, reward_mean=78.8, rw_bound=85.5\n",
      "19: loss=0.572, reward_mean=61.1, rw_bound=66.5\n",
      "20: loss=0.552, reward_mean=70.0, rw_bound=72.5\n",
      "21: loss=0.539, reward_mean=83.2, rw_bound=95.5\n",
      "22: loss=0.555, reward_mean=87.0, rw_bound=87.5\n",
      "23: loss=0.546, reward_mean=79.9, rw_bound=93.0\n",
      "24: loss=0.552, reward_mean=101.8, rw_bound=115.5\n",
      "25: loss=0.555, reward_mean=107.3, rw_bound=110.0\n",
      "26: loss=0.524, reward_mean=118.2, rw_bound=122.5\n",
      "27: loss=0.535, reward_mean=102.2, rw_bound=106.0\n",
      "28: loss=0.534, reward_mean=109.6, rw_bound=121.0\n",
      "29: loss=0.518, reward_mean=118.0, rw_bound=136.0\n",
      "30: loss=0.536, reward_mean=124.7, rw_bound=134.0\n",
      "31: loss=0.531, reward_mean=143.4, rw_bound=166.5\n",
      "32: loss=0.515, reward_mean=164.6, rw_bound=165.5\n",
      "33: loss=0.519, reward_mean=150.5, rw_bound=158.5\n",
      "34: loss=0.514, reward_mean=165.4, rw_bound=172.0\n",
      "35: loss=0.529, reward_mean=153.6, rw_bound=176.0\n",
      "36: loss=0.526, reward_mean=210.1, rw_bound=232.0\n",
      "Solved!\n"
     ]
    },
    {
     "data": {
      "text/html": [
       "<style>\n",
       "    table.wandb td:nth-child(1) { padding: 0 10px; text-align: left ; width: auto;} td:nth-child(2) {text-align: left ; width: 100%}\n",
       "    .wandb-row { display: flex; flex-direction: row; flex-wrap: wrap; justify-content: flex-start; width: 100% }\n",
       "    .wandb-col { display: flex; flex-direction: column; flex-basis: 100%; flex: 1; padding: 10px; }\n",
       "    </style>\n",
       "<div class=\"wandb-row\"><div class=\"wandb-col\"><h3>Run history:</h3><br/><table class=\"wandb\"><tr><td>ep_idx</td><td>▁▁▁▂▂▂▂▂▃▃▃▃▃▄▄▄▄▄▅▅▅▅▅▅▆▆▆▆▆▇▇▇▇▇███</td></tr><tr><td>loss</td><td>█▇▇▇▆▆▆▅▅▄▅▅▄▄▄▄▄▃▄▃▃▂▃▂▃▃▁▂▂▁▂▂▁▁▁▂▁</td></tr><tr><td>reward_bound</td><td>▂▁▁▂▂▂▂▁▂▂▂▂▂▃▃▃▃▃▃▂▃▃▃▃▄▄▄▄▄▅▅▆▆▆▆▆█</td></tr><tr><td>reward_mean</td><td>▁▁▁▂▁▂▁▁▁▂▂▂▂▃▃▂▃▃▃▂▃▃▃▃▄▄▄▄▄▄▅▅▆▆▆▆█</td></tr></table><br/></div><div class=\"wandb-col\"><h3>Run summary:</h3><br/><table class=\"wandb\"><tr><td>ep_idx</td><td>36</td></tr><tr><td>loss</td><td>0.52581</td></tr><tr><td>reward_bound</td><td>232</td></tr><tr><td>reward_mean</td><td>210.125</td></tr></table><br/></div></div>"
      ],
      "text/plain": [
       "<IPython.core.display.HTML object>"
      ]
     },
     "metadata": {},
     "output_type": "display_data"
    },
    {
     "data": {
      "text/html": [
       " View run <strong style=\"color:#cdcd00\">CP-run-4</strong> at: <a href='https://wandb.ai/achronus-uk/CrossEntropyTest/runs/8z7ncm0g' target=\"_blank\">https://wandb.ai/achronus-uk/CrossEntropyTest/runs/8z7ncm0g</a><br/> View project at: <a href='https://wandb.ai/achronus-uk/CrossEntropyTest' target=\"_blank\">https://wandb.ai/achronus-uk/CrossEntropyTest</a><br/>Synced 5 W&B file(s), 0 media file(s), 2 artifact file(s) and 0 other file(s)"
      ],
      "text/plain": [
       "<IPython.core.display.HTML object>"
      ]
     },
     "metadata": {},
     "output_type": "display_data"
    },
    {
     "data": {
      "text/html": [
       "Find logs at: <code>.\\wandb\\run-20241112_091530-8z7ncm0g\\logs</code>"
      ],
      "text/plain": [
       "<IPython.core.display.HTML object>"
      ]
     },
     "metadata": {},
     "output_type": "display_data"
    }
   ],
   "source": [
    "from examples.cross_entropy import train_cartpole\n",
    "\n",
    "train_cartpole(env, net, loss, optimizer, config, run_idx=4)"
   ]
  },
  {
   "cell_type": "code",
   "execution_count": 4,
   "metadata": {},
   "outputs": [],
   "source": [
    "import numpy as np\n",
    "\n",
    "class DiscreteObservationsToVector(gym.ObservationWrapper):\n",
    "    \"\"\"One hot encodes a discrete observation space.\"\"\"\n",
    "    def __init__(self, env: gym.Env) -> None:\n",
    "        super().__init__(env)\n",
    "\n",
    "        assert isinstance(env.observation_space, gym.spaces.Discrete)\n",
    "\n",
    "        shape = (env.observation_space.n,)\n",
    "        self.observation_space: gym.spaces.Box = gym.spaces.Box(0.0, 1.0, shape, dtype=np.float32)\n",
    "\n",
    "    def observation(self, observation: int) -> np.ndarray:\n",
    "        res = np.copy(self.observation_space.low)\n",
    "        res[observation] = 1.0\n",
    "        return res\n",
    "    \n",
    "    def step(self, action):\n",
    "        # Fixes bug with 'NumPyToTorch' wrapper\n",
    "        action = action.item() if isinstance(action, np.ndarray) else action\n",
    "        observation, reward, terminated, truncated, info = self.env.step(action)\n",
    "        return self.observation(observation), reward, terminated, truncated, info"
   ]
  },
  {
   "cell_type": "markdown",
   "metadata": {},
   "source": [
    "## FrozenLake Example"
   ]
  },
  {
   "cell_type": "code",
   "execution_count": 5,
   "metadata": {},
   "outputs": [],
   "source": [
    "config = load_config(\"config/cp_fl.yaml\")\n",
    "env2: gym.Env = NumpyToTorch(DiscreteObservationsToVector(gym.make(config.env.name, is_slippery=False)))\n",
    "\n",
    "obs_size = env2.observation_space.shape[0]\n",
    "n_actions = env2.action_space.n\n",
    "\n",
    "net2 = SimpleNet(obs_size, config.model.hidden_size, n_actions)\n",
    "loss = nn.CrossEntropyLoss()\n",
    "optimizer = optim.Adam(params=net2.parameters(), **config.optimizer)"
   ]
  },
  {
   "cell_type": "code",
   "execution_count": 6,
   "metadata": {},
   "outputs": [
    {
     "name": "stderr",
     "output_type": "stream",
     "text": [
      "Failed to detect the name of this notebook, you can set it manually with the WANDB_NOTEBOOK_NAME environment variable to enable code saving.\n",
      "wandb: Using wandb-core as the SDK backend. Please refer to https://wandb.me/wandb-core for more information.\n",
      "wandb: Currently logged in as: achronus (achronus-uk). Use `wandb login --relogin` to force relogin\n"
     ]
    },
    {
     "data": {
      "text/html": [
       "Tracking run with wandb version 0.18.5"
      ],
      "text/plain": [
       "<IPython.core.display.HTML object>"
      ]
     },
     "metadata": {},
     "output_type": "display_data"
    },
    {
     "data": {
      "text/html": [
       "Run data is saved locally in <code>c:\\Projects\\portfolio\\velora\\examples\\wandb\\run-20241112_092028-0pu3bb62</code>"
      ],
      "text/plain": [
       "<IPython.core.display.HTML object>"
      ]
     },
     "metadata": {},
     "output_type": "display_data"
    },
    {
     "data": {
      "text/html": [
       "Syncing run <strong><a href='https://wandb.ai/achronus-uk/CrossEntropyTest/runs/0pu3bb62' target=\"_blank\">FL-run-1</a></strong> to <a href='https://wandb.ai/achronus-uk/CrossEntropyTest' target=\"_blank\">Weights & Biases</a> (<a href='https://wandb.me/run' target=\"_blank\">docs</a>)<br/>"
      ],
      "text/plain": [
       "<IPython.core.display.HTML object>"
      ]
     },
     "metadata": {},
     "output_type": "display_data"
    },
    {
     "data": {
      "text/html": [
       " View project at <a href='https://wandb.ai/achronus-uk/CrossEntropyTest' target=\"_blank\">https://wandb.ai/achronus-uk/CrossEntropyTest</a>"
      ],
      "text/plain": [
       "<IPython.core.display.HTML object>"
      ]
     },
     "metadata": {},
     "output_type": "display_data"
    },
    {
     "data": {
      "text/html": [
       " View run at <a href='https://wandb.ai/achronus-uk/CrossEntropyTest/runs/0pu3bb62' target=\"_blank\">https://wandb.ai/achronus-uk/CrossEntropyTest/runs/0pu3bb62</a>"
      ],
      "text/plain": [
       "<IPython.core.display.HTML object>"
      ]
     },
     "metadata": {},
     "output_type": "display_data"
    },
    {
     "name": "stdout",
     "output_type": "stream",
     "text": [
      "0: loss=1.394, reward_mean=0.010, rw_bound=0.000, batch=1\n",
      "1: loss=1.341, reward_mean=0.030, rw_bound=0.000, batch=3\n",
      "2: loss=1.296, reward_mean=0.049, rw_bound=0.000, batch=5\n",
      "3: loss=1.248, reward_mean=0.086, rw_bound=0.000, batch=9\n",
      "4: loss=1.216, reward_mean=0.138, rw_bound=0.000, batch=15\n",
      "5: loss=1.183, reward_mean=0.191, rw_bound=0.000, batch=22\n",
      "6: loss=1.128, reward_mean=0.270, rw_bound=0.000, batch=33\n",
      "7: loss=1.028, reward_mean=0.421, rw_bound=0.239, batch=40\n",
      "8: loss=0.980, reward_mean=0.421, rw_bound=0.314, batch=47\n",
      "9: loss=0.897, reward_mean=0.490, rw_bound=0.349, batch=53\n",
      "10: loss=0.753, reward_mean=0.608, rw_bound=0.430, batch=47\n",
      "11: loss=0.626, reward_mean=0.680, rw_bound=0.478, batch=51\n",
      "12: loss=0.502, reward_mean=0.675, rw_bound=0.531, batch=46\n",
      "13: loss=0.440, reward_mean=0.637, rw_bound=0.531, batch=66\n",
      "14: loss=0.382, reward_mean=0.765, rw_bound=0.531, batch=94\n",
      "15: loss=0.333, reward_mean=0.825, rw_bound=0.531, batch=135\n",
      "Solved!\n"
     ]
    },
    {
     "data": {
      "text/html": [
       "<style>\n",
       "    table.wandb td:nth-child(1) { padding: 0 10px; text-align: left ; width: auto;} td:nth-child(2) {text-align: left ; width: 100%}\n",
       "    .wandb-row { display: flex; flex-direction: row; flex-wrap: wrap; justify-content: flex-start; width: 100% }\n",
       "    .wandb-col { display: flex; flex-direction: column; flex-basis: 100%; flex: 1; padding: 10px; }\n",
       "    </style>\n",
       "<div class=\"wandb-row\"><div class=\"wandb-col\"><h3>Run history:</h3><br/><table class=\"wandb\"><tr><td>batch</td><td>▁▁▁▁▂▂▃▃▃▄▃▄▃▄▆█</td></tr><tr><td>ep_idx</td><td>▁▁▂▂▃▃▄▄▅▅▆▆▇▇██</td></tr><tr><td>loss</td><td>██▇▇▇▇▆▆▅▅▄▃▂▂▁▁</td></tr><tr><td>reward_bound</td><td>▁▁▁▁▁▁▁▄▅▆▇▇████</td></tr><tr><td>reward_mean</td><td>▁▁▁▂▂▃▃▅▅▅▆▇▇▆▇█</td></tr></table><br/></div><div class=\"wandb-col\"><h3>Run summary:</h3><br/><table class=\"wandb\"><tr><td>batch</td><td>135</td></tr><tr><td>ep_idx</td><td>15</td></tr><tr><td>loss</td><td>0.33294</td></tr><tr><td>reward_bound</td><td>0.53144</td></tr><tr><td>reward_mean</td><td>0.82474</td></tr></table><br/></div></div>"
      ],
      "text/plain": [
       "<IPython.core.display.HTML object>"
      ]
     },
     "metadata": {},
     "output_type": "display_data"
    },
    {
     "data": {
      "text/html": [
       " View run <strong style=\"color:#cdcd00\">FL-run-1</strong> at: <a href='https://wandb.ai/achronus-uk/CrossEntropyTest/runs/0pu3bb62' target=\"_blank\">https://wandb.ai/achronus-uk/CrossEntropyTest/runs/0pu3bb62</a><br/> View project at: <a href='https://wandb.ai/achronus-uk/CrossEntropyTest' target=\"_blank\">https://wandb.ai/achronus-uk/CrossEntropyTest</a><br/>Synced 5 W&B file(s), 0 media file(s), 0 artifact file(s) and 0 other file(s)"
      ],
      "text/plain": [
       "<IPython.core.display.HTML object>"
      ]
     },
     "metadata": {},
     "output_type": "display_data"
    },
    {
     "data": {
      "text/html": [
       "Find logs at: <code>.\\wandb\\run-20241112_092028-0pu3bb62\\logs</code>"
      ],
      "text/plain": [
       "<IPython.core.display.HTML object>"
      ]
     },
     "metadata": {},
     "output_type": "display_data"
    }
   ],
   "source": [
    "from examples.cross_entropy import train_frozenlake\n",
    "\n",
    "train_frozenlake(env2, net2, loss, optimizer, config, run_idx=1)"
   ]
  },
  {
   "cell_type": "code",
   "execution_count": null,
   "metadata": {},
   "outputs": [],
   "source": []
  }
 ],
 "metadata": {
  "kernelspec": {
   "display_name": "venv",
   "language": "python",
   "name": "python3"
  },
  "language_info": {
   "codemirror_mode": {
    "name": "ipython",
    "version": 3
   },
   "file_extension": ".py",
   "mimetype": "text/x-python",
   "name": "python",
   "nbconvert_exporter": "python",
   "pygments_lexer": "ipython3",
   "version": "3.12.4"
  }
 },
 "nbformat": 4,
 "nbformat_minor": 2
}
