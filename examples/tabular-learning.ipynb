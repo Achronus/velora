{
 "cells": [
  {
   "cell_type": "markdown",
   "metadata": {},
   "source": [
    "# Tabular Learning"
   ]
  },
  {
   "cell_type": "code",
   "execution_count": null,
   "metadata": {},
   "outputs": [],
   "source": [
    "import gymnasium as gym\n",
    "from gymnasium.wrappers import NumpyToTorch\n",
    "import collections\n",
    "import wandb\n"
   ]
  },
  {
   "cell_type": "code",
   "execution_count": 2,
   "metadata": {},
   "outputs": [],
   "source": [
    "from velora.utils import load_config\n",
    "\n",
    "config = load_config(\"config/tl_fl.yaml\")"
   ]
  },
  {
   "cell_type": "markdown",
   "metadata": {},
   "source": [
    "## Value Iteration"
   ]
  },
  {
   "cell_type": "code",
   "execution_count": 3,
   "metadata": {},
   "outputs": [],
   "source": [
    "from velora import Config\n",
    "\n",
    "\n",
    "class Agent:\n",
    "    def __init__(self, config: Config, map_size: str) -> None:\n",
    "        self.env: gym.Env = gym.make(config.env.name, map_name=map_size)\n",
    "        self.state, _ = self.env.reset()\n",
    "\n",
    "        self.rewards = collections.defaultdict(float)\n",
    "        self.transits = collections.defaultdict(collections.Counter)\n",
    "        self.values = collections.defaultdict(float)\n",
    "\n",
    "    def play_n_random_steps(self, count: int) -> None:\n",
    "        for _ in range(count):\n",
    "            action = self.env.action_space.sample()\n",
    "            next_state, reward, terminated, truncated, _ = self.env.step(action)\n",
    "\n",
    "            self.rewards[(self.state, action, next_state)] = reward\n",
    "            self.transits[(self.state, action)][next_state] += 1\n",
    "\n",
    "            if truncated or terminated:\n",
    "                self.state, _ = self.env.reset()\n",
    "            else: \n",
    "                self.state = next_state\n",
    "    \n",
    "    def calc_action_value(self, state: int, action: int) -> float:\n",
    "        target_counts = self.transits[(state, action)]\n",
    "        total = sum(target_counts.values())\n",
    "        action_value = 0.0\n",
    "        \n",
    "        for tgt_state, count in target_counts.items():\n",
    "            reward = self.rewards[(state, action, tgt_state)]\n",
    "            val = reward + config.model.gamma * self.values[tgt_state]\n",
    "            action_value += (count / total) * val\n",
    "        \n",
    "        return action_value\n",
    "\n",
    "    def select_action(self, state: int) -> int:\n",
    "        best_action, best_value = None, None\n",
    "\n",
    "        for action in range(self.env.action_space.n):\n",
    "            action_value = self.calc_action_value(state, action)\n",
    "\n",
    "            if best_value is None or best_value < action_value:\n",
    "                best_value = action_value\n",
    "                best_action = action\n",
    "        \n",
    "        return best_action\n",
    "\n",
    "    def play_episode(self, env: gym.Env) -> float:\n",
    "        total_reward = 0.\n",
    "        state, _ = env.reset()\n",
    "\n",
    "        while True:\n",
    "            action = self.select_action(state)\n",
    "            next_state, reward, terminated, truncated, _ = env.step(action)\n",
    "            self.rewards[(state, action, next_state)] = reward\n",
    "            self.transits[(state, action)][next_state] += 1\n",
    "            total_reward += reward\n",
    "\n",
    "            if terminated or truncated:\n",
    "                break\n",
    "\n",
    "            state = next_state\n",
    "        \n",
    "        return total_reward\n",
    "\n",
    "    def value_iteration(self) -> None:\n",
    "        for state in range(self.env.observation_space.n):\n",
    "            state_values = [\n",
    "                self.calc_action_value(state, action)\n",
    "                for action in range(self.env.action_space.n)\n",
    "            ]\n",
    "            self.values[state] = max(state_values)\n"
   ]
  },
  {
   "cell_type": "code",
   "execution_count": 4,
   "metadata": {},
   "outputs": [],
   "source": [
    "# wandb.login()"
   ]
  },
  {
   "cell_type": "code",
   "execution_count": 11,
   "metadata": {},
   "outputs": [],
   "source": [
    "def train(agent: Agent, config: Config, map_size: str) -> None:\n",
    "    test_env: gym.Env = gym.make(config.env.name, map_name=map_size)\n",
    "    iter_no = 0\n",
    "    best_reward = 0.\n",
    "\n",
    "    while True:\n",
    "        iter_no += 1\n",
    "        reward = 0.\n",
    "\n",
    "        agent.play_n_random_steps(100)\n",
    "        agent.value_iteration()\n",
    "        \n",
    "        for _ in range(config.env.episodes):\n",
    "            reward += agent.play_episode(test_env)\n",
    "        \n",
    "        reward /= config.env.episodes\n",
    "\n",
    "        if reward > best_reward:\n",
    "            print(f\"Best reward updated {best_reward:.3f} -> {reward:.3f}\")\n",
    "            best_reward = reward\n",
    "        \n",
    "        if reward > config.other.solve_threshold:\n",
    "            print(f\"Solved in {iter_no} iterations!\")\n",
    "            break"
   ]
  },
  {
   "cell_type": "code",
   "execution_count": null,
   "metadata": {},
   "outputs": [
    {
     "name": "stdout",
     "output_type": "stream",
     "text": [
      "Best reward updated 0.000 -> 0.150\n",
      "Best reward updated 0.150 -> 0.200\n",
      "Best reward updated 0.200 -> 0.250\n",
      "Best reward updated 0.250 -> 0.350\n",
      "Best reward updated 0.350 -> 0.550\n",
      "Best reward updated 0.550 -> 0.650\n",
      "Best reward updated 0.650 -> 0.750\n",
      "Best reward updated 0.750 -> 0.800\n",
      "Best reward updated 0.800 -> 0.850\n",
      "Solved in 87 iterations!\n"
     ]
    }
   ],
   "source": [
    "map_size=\"4x4\"\n",
    "agent = Agent(config=config, map_size=map_size)\n",
    "train(agent, config, map_size)"
   ]
  },
  {
   "cell_type": "markdown",
   "metadata": {},
   "source": [
    "# Q Learning"
   ]
  },
  {
   "cell_type": "code",
   "execution_count": 8,
   "metadata": {},
   "outputs": [],
   "source": [
    "from velora import Config\n",
    "\n",
    "\n",
    "class Agent_Q:\n",
    "    def __init__(self, config: Config, map_size: str) -> None:\n",
    "        self.env: gym.Env = gym.make(config.env.name, map_name=map_size)\n",
    "        self.state, _ = self.env.reset()\n",
    "\n",
    "        self.rewards = collections.defaultdict(float)\n",
    "        self.transits = collections.defaultdict(collections.Counter)\n",
    "        self.values = collections.defaultdict(float)\n",
    "\n",
    "    def play_n_random_steps(self, count: int) -> None:\n",
    "        for _ in range(count):\n",
    "            action = self.env.action_space.sample()\n",
    "            next_state, reward, terminated, truncated, _ = self.env.step(action)\n",
    "\n",
    "            self.rewards[(self.state, action, next_state)] = reward\n",
    "            self.transits[(self.state, action)][next_state] += 1\n",
    "\n",
    "            if truncated or terminated:\n",
    "                self.state, _ = self.env.reset()\n",
    "            else: \n",
    "                self.state = next_state\n",
    "\n",
    "    def select_action(self, state: int) -> int:\n",
    "        best_action, best_value = None, None\n",
    "\n",
    "        for action in range(self.env.action_space.n):\n",
    "            action_value = self.values[(state, action)]\n",
    "\n",
    "            if best_value is None or best_value < action_value:\n",
    "                best_value = action_value\n",
    "                best_action = action\n",
    "        \n",
    "        return best_action\n",
    "\n",
    "    def play_episode(self, env: gym.Env) -> float:\n",
    "        total_reward = 0.\n",
    "        state, _ = env.reset()\n",
    "\n",
    "        while True:\n",
    "            action = self.select_action(state)\n",
    "            next_state, reward, terminated, truncated, _ = env.step(action)\n",
    "            self.rewards[(state, action, next_state)] = reward\n",
    "            self.transits[(state, action)][next_state] += 1\n",
    "            total_reward += reward\n",
    "\n",
    "            if terminated or truncated:\n",
    "                break\n",
    "\n",
    "            state = next_state\n",
    "        \n",
    "        return total_reward\n",
    "\n",
    "    def value_iteration(self) -> None:\n",
    "        for state in range(self.env.observation_space.n):\n",
    "            for action in range(self.env.action_space.n):\n",
    "                action_value = 0.\n",
    "                target_counts = self.transits[(state, action)]\n",
    "                total = sum(target_counts.values())\n",
    "\n",
    "                for tgt_state, count in target_counts.items():\n",
    "                    key = (state, action, tgt_state)\n",
    "                    reward = self.rewards[key]\n",
    "                    best_action = self.select_action(tgt_state)\n",
    "\n",
    "                    val = reward + config.model.gamma * self.values[(tgt_state, best_action)]\n",
    "                    action_value += (count / total) * val\n",
    "                \n",
    "                self.values[(state, action)] = action_value"
   ]
  },
  {
   "cell_type": "code",
   "execution_count": 13,
   "metadata": {},
   "outputs": [
    {
     "name": "stdout",
     "output_type": "stream",
     "text": [
      "Best reward updated 0.000 -> 0.300\n",
      "Best reward updated 0.300 -> 0.350\n",
      "Best reward updated 0.350 -> 0.500\n",
      "Best reward updated 0.500 -> 0.850\n",
      "Solved in 18 iterations!\n"
     ]
    }
   ],
   "source": [
    "map_size=\"4x4\"\n",
    "agent = Agent_Q(config=config, map_size=map_size)\n",
    "train(agent, config, map_size)"
   ]
  },
  {
   "cell_type": "code",
   "execution_count": null,
   "metadata": {},
   "outputs": [],
   "source": []
  }
 ],
 "metadata": {
  "kernelspec": {
   "display_name": "venv",
   "language": "python",
   "name": "python3"
  },
  "language_info": {
   "codemirror_mode": {
    "name": "ipython",
    "version": 3
   },
   "file_extension": ".py",
   "mimetype": "text/x-python",
   "name": "python",
   "nbconvert_exporter": "python",
   "pygments_lexer": "ipython3",
   "version": "3.12.4"
  }
 },
 "nbformat": 4,
 "nbformat_minor": 2
}
